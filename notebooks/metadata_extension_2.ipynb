{
 "cells": [
  {
   "cell_type": "code",
   "execution_count": 3,
   "id": "38d5f82c",
   "metadata": {},
   "outputs": [],
   "source": [
    "import numpy as np \n",
    "import pandas as pd\n",
    "import re"
   ]
  },
  {
   "cell_type": "markdown",
   "id": "884423a1",
   "metadata": {},
   "source": [
    "# Extension Processing and Categorization in WDI Indicator Data\n",
    "\n",
    "## Objective\n",
    "The goal of this notebook is to process and categorize the **extensions** found in the WDI (World Development Indicators) dataset. Extensions provide additional details such as **gender, demographic groups, education level, and geographic location**. By extracting and structuring these extensions into separate columns ( or jsut one column), we aim to enhance the hierarchical organization of the data for better analysis and visualization.\n",
    "\n",
    "## Challenges Encountered when analysing the data \n",
    "1. **Missing Extensions**: Some indicators in the WDI dataset lack extensions, making it difficult to determine additional attributes for certain data points.  \n",
    "2. **Ambiguous Extensions**: Certain extensions, such as **\"FE\"**, do not always correspond to a single category (e.g., \"FE\" may indicate **Female** in some cases but represent something else in other contexts). This requires additional context or mapping strategies to ensure accurate classification.  \n",
    "\n",
    "\n"
   ]
  },
  {
   "cell_type": "code",
   "execution_count": null,
   "id": "41f6d0e6",
   "metadata": {},
   "outputs": [],
   "source": [
    "codes_dict = {\n",
    "\n",
    "        \"Gender\": [\"FE\", \"FM\", \"MA\", \"MF\", \"HI\"],\n",
    "        \"Age\": [\"14\", \"YG\", \"OL\"],\n",
    "        \"Population\": [\"P1\", \"P2\", \"P3\", \"P6\", \"Q1\", \"Q5\", \"R1\", \"R2\", \"R3\", \"R4\", \"R5\", \"R6\"]\n",
    "\n",
    "\n",
    "        \"Education Level\": [\"BA\", \"DO\", \"MS\", \"UP\", \"ST\", \"VO\", \"GC\"],\n",
    "        \"Literacy\": [\"LT\", \"IL\"],\n",
    "        \"Other Education-Related\": [\"TE\", \"TC\", \"EC\"]\n",
    "\n",
    "\n",
    "        \"Employment and Labor\": [\"EM\", \"TF\", \"HR\", \"PU\"],\n",
    "        \"Economic Measures\": [\"GDP\", \"GNI\", \"GN\", \"VE\", \"RV\"],\n",
    "        \"Social Behavior\": [\"SB\", \"SS\"],\n",
    "        \"Sector and Industry\": [\"AG\", \"CL\", \"FI\", \"EC\", \"SV\", \"SC\"]\n",
    "\n",
    "\n",
    "        \"Energy\": [\"CO\", \"EI\", \"FO\", \"NG\", \"KH\"],\n",
    "        \"Environmental\": [\"CE\", \"GF\", \"HD\", \"LU\"]\n",
    "\n",
    "        \"Income and Wealth\": [\"HI\", \"GD\", \"GE\", \"GP\"],\n",
    "        \"Health and Well-being\": [\"HL\", \"DH\"],\n",
    "        \"Government and Public Sector\": [\"PB\", \"GT\"],\n",
    "        \"Research and Development\": [\"RD\"]\n",
    "    \n",
    "}\n"
   ]
  }
 ],
 "metadata": {
  "kernelspec": {
   "display_name": "Python 3 (ipykernel)",
   "language": "python",
   "name": "python3"
  },
  "language_info": {
   "codemirror_mode": {
    "name": "ipython",
    "version": 3
   },
   "file_extension": ".py",
   "mimetype": "text/x-python",
   "name": "python",
   "nbconvert_exporter": "python",
   "pygments_lexer": "ipython3",
   "version": "3.11.5"
  }
 },
 "nbformat": 4,
 "nbformat_minor": 5
}
